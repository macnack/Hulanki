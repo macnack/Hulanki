{
  "nbformat": 4,
  "nbformat_minor": 0,
  "metadata": {
    "colab": {
      "name": "01. Przeszukiwanie i planowanie ścieżki",
      "private_outputs": true,
      "provenance": [],
      "collapsed_sections": [],
      "include_colab_link": true
    },
    "kernelspec": {
      "name": "python3",
      "display_name": "Python 3"
    }
  },
  "cells": [
    {
      "cell_type": "markdown",
      "metadata": {
        "id": "view-in-github",
        "colab_type": "text"
      },
      "source": [
        "<a href=\"https://colab.research.google.com/github/macnack/Hulanki/blob/main/01_Przeszukiwanie_i_planowanie_%C5%9Bcie%C5%BCki.ipynb\" target=\"_parent\"><img src=\"https://colab.research.google.com/assets/colab-badge.svg\" alt=\"Open In Colab\"/></a>"
      ]
    },
    {
      "cell_type": "markdown",
      "metadata": {
        "id": "7qDL-YCc8o5A"
      },
      "source": [
        "# Laboratorium Wstęp do Sztucznej Inteligencji\n",
        "\n",
        "## Ćwiczenie 1. Przeszukiwanie i planowanie ścieżki\n",
        "\n",
        "<img src=\"https://drive.google.com/uc?id=12-CL76-6gDAkulaB5AZA6u23iCnxSeDQ\" width=\"500\"/>\n",
        "\n",
        "\n",
        "Politechnika Poznańska\n",
        "\n",
        "Instytut Robotyki i Inteligencji Maszynowej\n",
        "\n",
        "Joanna Piasek, Jan Wietrzykowski\n"
      ]
    },
    {
      "cell_type": "markdown",
      "metadata": {
        "id": "0qBPtXIg6YC_"
      },
      "source": [
        "# Grid world w 2-D\n",
        "\n",
        "Jednym z najczęściej występujących problemów w robotyce mobilnej jest planowanie ścieżki. Robot lub, ogólniej, autonomiczny agent musi zaplanować ścieżkę od swojej aktualnej pozycji do pozycji celu, np. szafki z ciasteczkami, które ma dostarczyć. Jeśli rozpatrywany obszar poszukiwań nie jest duży, zazwyczaj można go przedstawić za pomocą regularnej siatki:\n",
        "\n",
        "<img src=\"https://drive.google.com/uc?id=1JYMV3316HAsV0BIgBZhh-4GNZ7o0xvUZ\" width=\"500\"/>\n",
        "\n",
        "W przybiliżeniu tym przyjmujemy, że agent może znajdować się w tylko jednej z komórek. W ten sposób otrzymujemy zdyskretyzowaną listę stanów agenta, ponieważ komórka, w której się znajduje, jest jednocześnie jego stanem. Jeśli oznaczymy komórki przez ich współrzędne, stan możemy zapisać jako `(x, y)`, jak na rysunku poniżej:\n",
        "\n",
        "<img src=\"https://drive.google.com/uc?id=1JDUiUdrllC0F11hiANzA9xa_v8JdRZlV\" width=\"180\"/>\n",
        "\n",
        "Większość algorytmów planowania ścieżki używa grafów do reprezentacji problemu, więc i w naszym przypadku przedstawimy go w postaci grafu. Wierzchołkami grafu będą stany agenta, czyli lokacje (komórki), w których może znaleźć się agent. Jeśli agent może poruszać się we wszystkich kierunkach, z danego stanu możemy przemieścić się do wszystkich sąsiadujących stanów. W przykładzie z rysunku poniżej, ze stanu `(3, 2)` możemy przejść do stanów `(2, 2)`, `(3, 3)` oraz `(4, 2)`, co zostało zilustrowane wycinkiem grafu wrysowanym w mapę.\n",
        "\n",
        "<img src=\"https://drive.google.com/uc?id=1Z-O6IaqhsJd2PVHI7akCPE1Y6g6fOs2r\" width=\"180\"/>\n",
        "\n",
        "\n"
      ]
    },
    {
      "cell_type": "markdown",
      "metadata": {
        "id": "IJw2-A9FbC2s"
      },
      "source": [
        "#Sposoby reprezentacji grafów \n",
        "\n",
        "Istnieją różne sposoby reprezentacji grafów. Przypomnijmy sobie dwa najbardziej użyteczne.\n",
        "\n",
        "**Macierz sąsiedztwa**\n",
        "\n",
        "Graf o $n$ wierzchołkach możemy reprezentować za pomocą tablicy A o rozmiarze n na n elementów. Rzędy i kolumny macierzy reprezentują wierzchołki: $A[i][j] = 1$ oznacza, że istnieje krawędź pomiędzy wierzchołkami $i$ oraz $j$, z kolei $A[i][j] =0$ wskazuje, ze podana krawędź nie istnieje. W grafach z wagami, wagę krawędzi zapisuje się w miejscu 1.  \n",
        "\n",
        "Zaletą takiego sposobu reprezentacji grafu jest możliwość natychmiastowego sprawdzenia istnienia krawędzi między dwoma wierzchołkami. Podobnie szybko możemy dodawać lub usuwać dowolne krawędzie. Wadą tej metody zapisu jest jej złożoność pamięciowa - wymaga użycia tablicy o rozmiarze $n^2$. W przypadku grafów rzadkich (tj. takich, w których jest mało krawędzi w stosunku do liczby wierzchołków), większość pamięci przechowuje bezużyteczne informacje.\n",
        "\n",
        "\n",
        "**Listy sąsiedztwa**\n",
        "\n",
        "Grafy rzadkie można reprezentować za pomocą list sąsiedztwa. Wówczas dla każdego wierzchołka przechowujemy wyłącznie informacje o wierzchołkach będących jego sąsiadami. Zmniejsza to złożoność pamięciową dla grafu złożonego z $n$ wierzchołków i $k$ krawędzi do $O(n+k)$. Jednakże, aby stwierdzić występowanie krawędzi między wierzchołkami $i$ oraz $j$, musimy przeszukać całą listę sąsiadów wierzchołka $i$ lub $j$.\n",
        "\n",
        "<img src=\"https://drive.google.com/uc?id=1bpv6P1SiyFTG-_oo8QExOFgKfxcY8DF0\"/>\n"
      ]
    },
    {
      "cell_type": "markdown",
      "metadata": {
        "id": "OeOAfzRld3eb"
      },
      "source": [
        "# Breadth-First Search (BFS)\n",
        "\n",
        "Za pomocą przeszukiwania wszerz (ang. *Breadth-First Search, BFS*) możliwe jest znalezienie najkrótszej ścieżki w grafie, którego wszystkie krawędzie mają jednakową długość (najczęściej przyjmuje się długość równą 1). Algorytm ten polega na odwiedzaniu wierzchołków w kolejności rosnących odległości od wierzchołka startowego. W ten sposób, po dotarciu do wierzchołka docelowego, mamy gwarancję znalezienia najkrótszej ścieżki. Dokładny opis algorytmu można znaleźć [tutaj](http://www.algorytm.edu.pl/grafy/bfs.html).\n",
        "\n",
        "Jeśli po dotarciu do wierzchołka docelowego chcemy odtworzyć znalezioną ścieżkę, konieczne jest zapisywanie kolejnych kroków. Można do tego celu wykorzystać słownik, który dla każdego wierzchołka dodanego do kolejki będzie przechowywał wierzchołek, z którego do niego dotarto. Za pomocą pseudokodu algorytm ten można przedstawić następująco:\n",
        "\n",
        "```python\n",
        "\n",
        "# s - wierzchołek startowy\n",
        "# g - wierzchołek docelowy\n",
        "# nodes - lista wierzchołków\n",
        "\n",
        "# lista odwiedzonych wierzchołków\n",
        "visited = set()\n",
        "# słownik poprzedników\n",
        "parent = {n: None for n in nodes}\n",
        "\n",
        "q = Queue()\n",
        "\n",
        "# dodaj wierzchołek startowy\n",
        "push(q, s)\n",
        "# ustaw jego poprzednika jako jego samego, aby oznaczyć go jako odwiedzony\n",
        "parent[s] = s\n",
        "# dopóki kolejka nie jest pusta, czyli są jeszcze jakieś wierzchołki do odwiedzenia\n",
        "while not empty(q):\n",
        "  # pobierz następny wierzchołek i usuń go z kolejki\n",
        "  cur_n = front(q)\n",
        "  pop(q)\n",
        "\n",
        "  # przerwij jeśli dotarliśmy do celu\n",
        "  if cur_n == g:\n",
        "    break\n",
        "  \n",
        "  # dla wszystkich krawędzi z aktualnego wierzchołka\n",
        "  for nh in edges(cur_n):\n",
        "    # jeśli sąsiad nie był jeszcze odwiedzony\n",
        "    if nh not in visited:\n",
        "      # oznacz jako odwiedzony i dodaj do kolejki\n",
        "      parent[nh] = cur_n\n",
        "      add(visited, nh)\n",
        "      push(q, nh)\n",
        "\n",
        "# ścieżka do wierzchołka docelowego\n",
        "path = []\n",
        "\n",
        "# zaczynamy od wierzchołka docelowego i cofamy się po znalezionej ścieżce\n",
        "cur_n = g\n",
        "# dopóki nie dotrzemy do startu\n",
        "while cur_n != None:\n",
        "  # dodajemy aktualny wierzchołek i przechodzimy do poprzednika\n",
        "  add(path, cur_n)\n",
        "  cur_n = parent[cur_n]\n",
        "# wierzchołki są w odwrotnej kolejności, więc odwracamy listę\n",
        "reverse(path)\n",
        "\n",
        "```\n",
        "\n"
      ]
    },
    {
      "cell_type": "markdown",
      "metadata": {
        "id": "hsRvND6sRnoS"
      },
      "source": [
        "# Mapa drogowa\n",
        "\n",
        "Wyobraźmy sobie teraz problem większej skali, w którym musimy znaleźć najkrótszą drogę pomiędzy miastami. Mając do dyspozycji mapę obszaru, również to zadanie jesteśmy w stanie zapisać w postaci grafu. Jego wierzchołki dla ułatwienia oznaczymy pierwszymi literami nazw miast, choć zamiast tego moglibyśmy użyć również stanów agenta, które w tym wypadku są równe współrzędnym geograficznym. Agent może przemieszczać się jedynie po drogach, które łączą poszczególne miasta, więc miasta pomiędzy którymi istnieją drogi będą połączone krawędziami w grafie. Krawędzie te nie będą miały jednak jednakowej długości i konieczne jest przechowywanie tej informacji jako waga krawędzi. Dla przykładu z rysunku poniżej, aby dotrzeć ze Szczecina do Warszawy, możemy wybrać drogę przez Poznań i Łódź albo drogę przez Gdańsk. W pierwszym przypadku konieczne jest przebycie 3 krawędzi, a w drugim 2, jednakże pierwsza droga będzie krótsza. Z tego powodu, aby znaleźć najkrótsze połączenie nie możemy już wykorzystać algorytmu BFS, ponieważ poszczególne krawędzie (drogi) mają różne długości.\n",
        "<img src=\"https://drive.google.com/uc?id=1_3_l4oNKJSSr5QXw-IGUAMFuDUtLIai-\"\n",
        "width=\"500\"/>\n",
        "\n"
      ]
    },
    {
      "cell_type": "markdown",
      "metadata": {
        "id": "939C5PLO_cOp"
      },
      "source": [
        "# Algorytm Dijkstry\n",
        "\n",
        "Za pomocą algorytmu Dijkstry możliwe jest znalezienie najkrótszej ścieżki w grafie, którego krawędzie mają różną (ale tylko dodatnią) długość. Wierzchołki znów są odwiedzane w kolejności ich odległości od wierzchołka początkowego, jednakże tym razem konieczne jest wykorzystanie kolejki priorytetowej (kopca), aby to osiągnąć. W każdym wierzchołku sprawdzamy czy da się z niego dojść do jego sąsiadów i ścieżka ta będzie krótsza niż najlepsza dotychczas znaleziona, tzn. czy scieżka, która kończy się aktualnym wierzchołkiem i jego sąsiadem jest aktualnie lepsza. Algorytm ten jest algorytmem zachłannym, ponieważ w każdym swoim kroku dokonuje tylko lokalnie optymalnego wyboru (wybiera wierzchołek, który jest mu najbliżyszy, nie uwzględniając przy tym całej ścieżki).\n",
        "\n",
        "Zasada działania jest następująca:\n",
        "* Utwórz dwa zbiory wierzchołków $Q$ i $S$. Początkowo zbiór $Q$ zawiera wszystkie wierzchołki grafu, a zbiór $S$ jest pusty.\n",
        "* Długość ścieżki wierzchołka początkowego $\\text{cost}(s)$ ustaw na 0, a dla pozostałych wierzchołków przyjmij nieskończoność (ponieważ nie znaleziono jeszcze długości najkrótszych ścieżek).\n",
        "* Ustaw poprzednik $\\text{parent}(s)$ wierzchołka startowego na niezdefioniowany. Poprzedniki będą wyznaczały w kierunku odwrotnym najkrótszą ścieżkę od wierzchołka $g$  do wierzchołka startowego $s$.\n",
        "* W pętli, dopóki zbiór $Q$ zawiera wierzchołek docelowy $g$, wykonaj następujące czynności:\n",
        "  * Wybierz ze zbioru $Q$ wierzchołek $u$ o najmniejszym koszcie dojścia $\\text{cost}(u)$ (w pierwszej iteracji wybierz wierzchołek startowy).\n",
        "  * Wybrany wierzchołek $u$ usuń ze zbioru $Q$  i dodaj do zbioru $S$.\n",
        "  * Dla każdego sąsiada $w$  wierzchołka $u$, który jest wciąż w zbiorze $Q$, sprawdź czy:\n",
        "    *   $\\text{cost}(w)$ $>\\text{cost}(u)$ +  $\\text{weight}(u,w)$.\n",
        "    *  Jeśli tak, to wyznacz nowy koszt dojścia do wierzchołka w jako:\n",
        "$\\text{cost}(w)$ = $\\text{cost}(u)$ +  $\\text{weight}(u,w)$. Następnie, wierzchołek $u$ zapisz jako poprzednik $w$: $\\text{parent}(w) = u$.\n",
        "\n",
        "Warto zauważyć, że jeżeli długości krawędzi są równe, algorytm Dijkstry sprowadza się do algorytmu przeszukiwania wszerz (BFS)\n",
        "\n",
        "```python\n",
        "\n",
        "# s - wierzchołek startowy\n",
        "# g - wierzchołek docelowy\n",
        "# nodes - lista wierzchołków\n",
        "\n",
        "# zbiór wierzchołków odwiedzonych\n",
        "visited = set()\n",
        "# słownik kosztów\n",
        "cost = {n: inf for n in nodes}\n",
        "# słownik poprzedników\n",
        "parent = {s: None}\n",
        "# utwórz kolejke, w której elementy są ułożone nie w kolejności wprowadzania, lecz w kolejności priorytetu.\n",
        "q = PriorityQueue()\n",
        "# dodaj wierzchołek startowy\n",
        "push(q, (0,s))\n",
        "cost[s] = 0\n",
        "# dopóki kolejka nie jest pusta, czyli są jeszcze jakieś wierzchołki do odwiedzenia\n",
        "while not empty(q):\n",
        "    # pobierz wierzchołek o najmniejszym priotytecie i usuń go z kolejki\n",
        "    _, cur_n = top(q)\n",
        "    pop(q)\n",
        "    # przerwij jeśli odwiedzony\n",
        "    if cur_n in visited:\n",
        "      continue\n",
        "    # dodaj wierzchołek do listy odwiedonych\n",
        "    add(visited, cur_n)\n",
        "      # przerwij jeśli dotarliśmy do celu\n",
        "    if cur_n == g:\n",
        "        break\n",
        "    # dla wszystkich krawędzi z aktualnego wierzchołka    \n",
        "    for nh, distance in edges(cur_n):\n",
        "        # przerwij jeśli sąsiad był już odwiedzony\n",
        "        if nh in visited: \n",
        "          continue  \n",
        "        # pobierz koszt sąsiada lub przypisz mu inf\n",
        "        old_cost = cost[nh]\n",
        "        # oblicz koszt dla danego wierzchołka \n",
        "        new_cost = cost[cur_n] + distance\n",
        "        # rozważ nową ścieżkę tylko wtedy, gdy jest lepsza niż dotychczas najlepsze ścieżka\n",
        "        if new_cost < old_cost:\n",
        "            # zaktualizuj wartość sąsiada w słowniku kosztów\n",
        "            cost[nh] = new_cost\n",
        "            # ustaw poprzednika\n",
        "            parent[nh] = cur_n\n",
        "            # dodaj sąsiada do kolejki\n",
        "            push(q, (new_cost, nh))\n",
        "# odtwórz ścieżkę\n",
        "path = []\n",
        "cur_n = g\n",
        "while cur_n is not None:\n",
        "    path.append(cur_n)\n",
        "    cur_n = parent[cur_n]\n",
        "reverse(path)\n",
        "```\n",
        "\n"
      ]
    },
    {
      "cell_type": "markdown",
      "metadata": {
        "id": "DYD6ttCkEVtn"
      },
      "source": [
        "#Algorytm A$^*$\n",
        "\n",
        "Algorytm A* jest bardzo podobny do algorytmu Dijkstry z tą różnicą, że zamiast wybierać do odwiedzin wierzchołek o\n",
        "najmniejszej możliwej odległości tymczasowej (najbliższy w danym momencie), wybieramy ten, dla którego\n",
        "minimalną wartość ma funkcja kosztu opisana jako $f(u)=\\text{cost}(u)+h(u,g)$. \n",
        "Inaczej mówiąc: preferujemy odwiedzanie tych wierzchołków, których suma\n",
        "przeszacowanej odległości od źródła $\\text{cost}(u)$ i niedoszacowanej odległości do celu $h(u,g)$ jest możliwie najmniejsza. W efekcie wybierając kolejne kroki kierujemy się do tych wierzchołków, które według heurystyki są bliżej celu.\n",
        "Implementacja algorytmu $A^*$ wymaga zdefiniowania dodatkowej funkcji, która będzie odpowiedzialna za obliczanie heurystyki. \n",
        "```python\n",
        "def heuristic(a, b):\n",
        "   # Manhattan distance on a square grid\n",
        "   return abs(a.x - b.x) + abs(a.y - b.y)\n",
        "```\n",
        "W przedstawionym fragmencie kodu jako heurystykę wykorzystano metrykę Manhattan. Innymi często stosowanymi metrykami są: metryka Euklidesowa czy metryka Czebyszewa. Przyjęcie, że metryka równa się 0 powoduje, że algorytm A* redukuje się do algorytmu Dijkstry. Więcej na temat heurystyk można przeczytać [tutaj](http://theory.stanford.edu/~amitp/GameProgramming/Heuristics.html).\n",
        "```python\n",
        "# s - wierzchołek startowy\n",
        "# g - wierzchołek docelowy\n",
        "# nodes - lista wierzchołków\n",
        "\n",
        "# zbiór wierzchołków odwiedzonych\n",
        "visited = set()\n",
        "# słownik kosztów\n",
        "cost = {n: inf for n in nodes}\n",
        "# słownik poprzedników\n",
        "parent = {s: None}\n",
        "# utwórz kolejke, w której elementy są ułożone nie w kolejności wprowadzania, lecz w kolejności priorytetu.\n",
        "q = PriorityQueue()\n",
        "# dodaj wierzchołek startowy\n",
        "push(q, (0,s))\n",
        "cost[s] = 0\n",
        "# dopóki kolejka nie jest pusta, czyli są jeszcze jakieś wierzchołki do odwiedzenia\n",
        "while not empty(q):\n",
        "    # pobierz wierzchołek o najmniejszym priotytecie i usuń go z kolejki\n",
        "    _, cur_n = top(q)\n",
        "    pop(q)\n",
        "    # przerwij jeśli odwiedzony\n",
        "    if cur_n in visited:\n",
        "      continue\n",
        "    # dodaj wierzchołek do listy odwiedonych\n",
        "    add(visited, cur_n)\n",
        "      # przerwij jeśli dotarliśmy do celu\n",
        "    if cur_n == g:\n",
        "        break\n",
        "    # dla wszystkich krawędzi z aktualnego wierzchołka    \n",
        "    for nh, distance in edges(cur_n):\n",
        "        # przerwij jeśli sąsiad był już odwiedzony\n",
        "        if nh in visited: \n",
        "          continue  \n",
        "        # pobierz koszt sąsiada lub przypisz mu inf\n",
        "        old_cost = cost[nh]\n",
        "        # oblicz koszt dla danego wierzchołka \n",
        "        new_cost = cost[cur_n] + distance\n",
        "        # rozważ nową ścieżkę tylko wtedy, gdy jest lepsza niż dotychczas najlepsze ścieżka\n",
        "        if new_cost < old_cost:\n",
        "            # zaktualizuj wartość sąsiada w słowniku kosztów\n",
        "            cost[nh] = new_cost\n",
        "            # ustaw poprzednika\n",
        "            parent[nh] = cur_n\n",
        "            # oblicz koszt uzwględniając heurystykę\n",
        "            priority = new_cost + heuristic(g, nh)\n",
        "            # dodaj sąsiada do kolejki zgodnie z priorytetem         \n",
        "            push(q, (priority, nh))\n",
        "# odtwórz ścieżkę\n",
        "path = []\n",
        "cur_n = g\n",
        "while cur_n is not None:\n",
        "    path.append(cur_n)\n",
        "    cur_n = parent[cur_n]\n",
        "reverse(path)\n",
        "```\n"
      ]
    },
    {
      "cell_type": "markdown",
      "metadata": {
        "id": "4NpO9hg2fpgX"
      },
      "source": [
        "# Uwzględnienie orientacji i bardziej złożone stany\n",
        "\n",
        "Większość robotów mobilnych potrafi poruszać się tylko w kierunku wzdłużnym, a więc poruszanie się w boki wymaga najpierw skrętu. Taki manewr zajmuje pewien czas, dlatego planując ścieżkę trzeba uwzględnić również koszty wykonania tej operacji, a nie tylko odległość geometryczną od celu.\n",
        " \n",
        "Jeden ze sposobów przekształcenia takiego problemu w graf pokazano na rysunku poniżej. Stan robota możemy teraz opisać wektorem 3-elementowym $(x,y,\\theta)$. w którym ostatnia zmienna określa możliwą orientację `['N', 'E', 'S', 'W']`. Jedna komórka siatki jest w grafie reprezentowana przez 4 wierzchołki np. `(1,4,'N'), (1,4,'E'), (1,4,'S'), (1,4,'W')`. Do wierzchołków przypisane są krawędzie oraz odpowiednia waga równa czasowi trwania manewru. Dla tak utworzonego grafu, aby znaleźć najkrótsze połączenie możemy wykorzystać algorytmu Dijkstry albo $A^*$.\n",
        "\n",
        "<img src=\"https://drive.google.com/uc?id=1qPcb6jqwAwCgA2tCX4rzPuv3E4ykUYld\" width=500/>\n"
      ]
    },
    {
      "cell_type": "markdown",
      "metadata": {
        "id": "SDRQUn5o9TLi"
      },
      "source": [
        "# Ciekawe\n",
        "\n",
        "Porównanie algorytmów w atrakcyjnej wizualnie formie można znaleźć między innymi [tutaj](https://www.redblobgames.com/pathfinding/a-star/introduction.html)."
      ]
    },
    {
      "cell_type": "markdown",
      "metadata": {
        "id": "t6iE27-KvbeT"
      },
      "source": [
        "# Przebieg zajęć\n",
        "\n",
        "Poniżej znajdują się zadania do rozwiązania podczas zajęć. Podczas ich rozwiązywania skorzystaj z PyCharma i szablonów kodów dostępnych w treści zadań. Wprowadzenie do Pythona możesz znaleźć [tutaj](https://colab.research.google.com/drive/1h9ZuXPR-WKHT5giNJdlF6TAhPjRgSS0k#scrollTo=RLRo4F30STIa), natomiast materiały z przedmiotu Technologie Informacyjne znajdują się [tutaj](https://jug.put.poznan.pl/lab-ti/python/)."
      ]
    },
    {
      "cell_type": "markdown",
      "metadata": {
        "id": "dspg5vSV5Xlt"
      },
      "source": [
        "# Zadanie 1\n",
        "\n",
        "<img src=\"https://drive.google.com/uc?id=1YDUVim9-WvMZif6b06PcsKQN_t5RH-NA\" width=\"400\" />\n",
        "\n",
        "Dla grafu z rysunku powyżej znajdź najkrótszą ścieżkę z wierzchołka `1` do wierzchołka `8`:\n",
        "1. Zdefiniuj graf jako słownik, w którym kluczami będą numery wierzchołów, a wartościami listy ich sąsiadów.\n",
        "2. Stwórz odpowiednie struktury do przechowywania informacji o odwiedzonych wierzchołkach, aby możliwe było odtworzenie najkrótszej ścieżki.\n",
        "3. Zaimplementuj algorytm BFS z użyciem `queue.Queue`.\n",
        "4. Znajdź najkrótszą ścieżkę i wypisz wierzchołki, które ta ścieżka zawiera."
      ]
    },
    {
      "cell_type": "markdown",
      "metadata": {
        "id": "ufAWRDtQ7g20"
      },
      "source": [
        "# Zadanie 2\n",
        "\n",
        "Naszym celem jest znalezienie najkrótszej ścieżki do złota (żółty kwadrat) w świecie 2-D, w którym występują przeszkody w postaci ścian (czarne kwadraty). Agent może poruszać się w 4 kierunkach `['N', 'E', 'S', 'W']`, natomiast jego orientacja jest przez cały czas stała i nie jest istotna w tym zadaniu. \n",
        "1. Pobierz [szablon kodu](https://drive.google.com/file/d/1b8OFYNTOTZwQd50kU3B7WFfQywEEyTRn/view?usp=sharing) i otwórz go w PyCharmie.\n",
        "2. Uruchom testowo program z pliku `main.py`. Powinien się pojawić widok mapy z zaznaczonym agentem (czarna strzałka) oraz złotem.\n",
        "3. Zastanów się co jest stanem agenta w naszym problemie? Jak można taki stan reprezentować w Pythonie? Za pomocą debuggera/printa sprawdź ile jest możliwych stanów w rozpatrywanym świecie (lista lokacji znajduje się w zmiennej `self.locations`).\n",
        "4. Jakie są możliwe przejścia pomiędzy stanami (akcje)? Jak obliczyć nowy stan na podstawie poprzedniego i wybranej akcji?\n",
        "5. Jaką najlepiej wybrać strukturę do oznaczania już odwiedzonych stanów? Co musimy zapisywać, aby później odtworzyć najkrótszą ścieżkę?\n",
        "6. Zaimplementuj algorytm BFS w funkcji `find_path(self)` z pliku `agent.py` tak, aby zwracała listę lokacji, które należy odwiedzić, aby dotrzeć z `self.loc` do `self.goal`. Nic nie musisz modyfikować w pliku `main.py`.\n",
        "7. Uzupełnij funkcję `__call__(self)` tak, aby zwracała odpowiednie akcje do wykonania. Pamiętaj o aktualizacji aktualnego stanu agenta i planu. Akcje w niniejszym zadaniu mają postać jednej z wartości `['N', 'E', 'S', 'W']`.\n"
      ]
    },
    {
      "cell_type": "markdown",
      "metadata": {
        "id": "bbspcKaCKZpa"
      },
      "source": [
        "# Zadanie 2 - odpowiedzi\n",
        "\n",
        "1. \n"
      ]
    },
    {
      "cell_type": "markdown",
      "metadata": {
        "id": "Hj0kMly9Ag4j"
      },
      "source": [
        "# Zadanie 3\n",
        "\n",
        "<img src=\"https://drive.google.com/uc?id=1_BjHufvHq3PWypdOIRRM2DkW-Kdgj3eQ\" width=\"400\" />\n",
        "\n",
        "Dla grafu z rysunku powyżej znajdź najkrótszą ścieżkę z wierzchołka `1` do wierzchołka `8`:\n",
        "1. Zdefiniuj graf jako słownik, w którym kluczami będą numery wierzchołów, a wartościami listy ich sąsiadów wraz z długościami krawędzi.\n",
        "2. Stwórz odpowiednie struktury do przechowywania informacji o odwiedzonych wierzchołkach, aby możliwe było odtworzenie najkrótszej ścieżki.\n",
        "3. Zaimplementuj algorytm Dijkstry z użyciem `queue.PriorityQueue`.\n",
        "4. Znajdź najkrótszą ścieżkę i wypisz wierzchołki, które ta ścieżka zawiera."
      ]
    },
    {
      "cell_type": "markdown",
      "metadata": {
        "id": "wlSm26vIiTl2"
      },
      "source": [
        "# Zadanie 4\n",
        "\n",
        "Rozważmy teraz problem, w którym celem także jest jak najszybsze dotarcie do złota, jednak zamiast poszukiwać go w pomieszczeniach, musimy dotrzeć do miasta, w którym jest ukryte. Do dyspozycji mamy mapę z zaznaczonymi miastami i drogami, których można używać do przemieszczania się pomiędzy nimi. W poprzednim zadaniu przemieszczenie się pomiędzy sąsiadującymi polami zawsze zajmowało tyle samo czasu, ponieważ pola były od siebie równo odległe. Niestety, w tym przypadku drogi mają różną długość i w związku z tym czas ich przebycia jest różny. Czy, w związku z tym, do znalezienia najkrótszej drogi można także użyć algorytmu BFS? Jeśli nie, to jaki algorytm należy użyć? Wykorzystaj [szablon kodu](https://drive.google.com/file/d/1C_qz3XeVhhKRApJIxrtWo2ISDAL-dAuE/view?usp=sharing) i napisz program, który w najkrótszym czasie doprowadzi agenta do złota. Przyjmij, że prędkość poruszania się po wszystkich drogach jest stała i proporcjonalna do długości drogi:\n",
        "1. Przyjrzyj się jak jest zdefiniowany graf w pliku `main.py`. Co to za struktura? Czym są klucze a czym wartości?\n",
        "2. Mając dany stan `(x, y)` i wykorzystując strukturę z definicją grafu, jak określić wszystkie lokacje, do którch można się dostać z tego stanu (będzie to równoważne z możliwymi akcjami)? Jak określić długości krawędzi?\n",
        "3. Co w tym wypadku musimy zapisywać o odwiedzanych stanach?\n",
        "4. Jaką strukturę najlepiej wybrać do przechowywania kolejki stanów do odwiedzenia?\n",
        "5. Zaimplementuj odpowiedni algorytm w pliku `agent.py` w funkcji `find_path(self)` tak, aby zwracała ona listę lokacji, które należy odwiedzić, aby dostrzeć z `self.loc` do `self.goal`.\n",
        "6. Uzupełnij funkcję `__call__(self)` tak, aby zwracała odpowiednie akcje do wykonania. Pamiętaj o aktualizacji aktualnego stanu agenta i planu. Akcje w niniejszym zadaniu moją postać lokacji, do której agent ma się przemieścić. Jeśli lokacji zwróconej jako akcja nie ma na liście sąsiadów aktualnego stanu, agent pozostanie w tym samym miejscu.\n",
        "7. Czy można jakoś usprawnić przeszukiwanie dużych grafów, aby algorytm najpierw eksplorował kierunki, które są zgodne z azymutem do celu? Zaimplementuj takie usprawnienie i porównaj kolejność odwiedzanych wierzchołków dla przypadku, gdy start jest w lokacji `(9, 4)`, a miejsce docelowe w lokacji `(14, 10)`."
      ]
    },
    {
      "cell_type": "markdown",
      "metadata": {
        "id": "P_YAINWAyWhR"
      },
      "source": [
        "# Zadanie 4 - odpowiedzi"
      ]
    },
    {
      "cell_type": "markdown",
      "metadata": {
        "id": "oT5ByqgfzIdl"
      },
      "source": [
        "# Zadanie 5\n",
        "\n",
        "W poprzednich zadaniach szukaliśmy najszybszej ścieżki, ale było to tożsame ze znalezieniem najkrótszej, ponieważ zakładaliśmy stałą prędkość poruszania. Jednakże, za pomocą algorytmów Dijkstry czy A* można także planować ścieżkę, dla której pewien uogólniony koszt (np. czas wykonania operacji czy ilość zużytej energii) jest najmniejszy, a nie tylko długość geometryczna. W tym zadaniu celem jest znalezienie najszybszej ścieżki przy założeniu, że długość wykonywania poszczególnych operacji jest różna. Powracamy do `grid world`, ale tym razem do dyspozycji mamy następujące akcje: `['turnleft', 'turnright', 'forward']`. Orientacja teraz ma znaczenie i akcje `['turnleft', 'turnright']` obracają agenta, odpowiednio, w lewo oraz w prawo. Natomiast akcja `forward` powoduje przesunięcie agenta do przodu w aktualnym kierunku. Czas wykonania poszczególnych operacji to 5 (`turnleft`), 2 (`turnright`) oraz 1 (`forward`). Wykorzystaj [szablon kodu](https://drive.google.com/file/d/1twZ1G0EY6fnQIVIQ0mWjUGA0lnjwJXBP/view?usp=sharing) i napisz program, który pozwoli w jak najkrótszym czasie dotrzeć agentowi do złota:\n",
        "1. Jakie są teraz możliwe stany agenta? Jak je zapisać?\n",
        "2. Jak poszczególne akcje zmieniają stan agenta?\n",
        "3. Uzupełnij funkcję `find_path(self)`, aby zwracała listę stanów, które należy odwiedzić oraz listę akcji, które należy wykonać, aby odwiedzić te stany.\n",
        "4. Uzupełnij funkcję `__call__(self)`, aby na podstawie obliczonej listy akcji zwracała aktualną akcję do wykonania."
      ]
    }
  ]
}